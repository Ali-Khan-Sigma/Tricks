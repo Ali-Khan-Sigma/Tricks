{
 "cells": [
  {
   "cell_type": "code",
   "execution_count": 1,
   "metadata": {},
   "outputs": [],
   "source": [
    "dInput = {\"country\": [\"Brazil\", \"Russia\", \"China\", \"South Africa\"],\n",
    "          \"capital\": [\"Brasilia\", \"Moscow\", \"Beijing\", \"Pretoria\"],\n",
    "          \"area\": [8.516, 17.10, 9.597, 1.221],\n",
    "          \"population\": [200.4, 143.5, 1357, 52.98]}"
   ]
  },
  {
   "cell_type": "code",
   "execution_count": 2,
   "metadata": {},
   "outputs": [
    {
     "name": "stdout",
     "output_type": "stream",
     "text": [
      "your key: country\t and your value ['Brazil', 'Russia', 'China', 'South Africa']\n",
      "your key: capital\t and your value ['Brasilia', 'Moscow', 'Beijing', 'Pretoria']\n",
      "your key: area\t and your value [8.516, 17.1, 9.597, 1.221]\n",
      "your key: population\t and your value [200.4, 143.5, 1357, 52.98]\n"
     ]
    }
   ],
   "source": [
    "for k,v in dInput.items():\n",
    "    print(\"your key: {0}\\t and your value {1}\".format(k, v))"
   ]
  },
  {
   "cell_type": "code",
   "execution_count": 3,
   "metadata": {},
   "outputs": [
    {
     "name": "stdout",
     "output_type": "stream",
     "text": [
      "        country   capital    area  population\n",
      "0        Brazil  Brasilia   8.516      200.40\n",
      "1        Russia    Moscow  17.100      143.50\n",
      "2         China   Beijing   9.597     1357.00\n",
      "3  South Africa  Pretoria   1.221       52.98\n"
     ]
    }
   ],
   "source": [
    "import pandas as pd\n",
    "\n",
    "temp=pd.DataFrame(dInput)\n",
    "print(temp)"
   ]
  },
  {
   "cell_type": "code",
   "execution_count": null,
   "metadata": {},
   "outputs": [],
   "source": []
  }
 ],
 "metadata": {
  "kernelspec": {
   "display_name": "Python 3",
   "language": "python",
   "name": "python3"
  },
  "language_info": {
   "codemirror_mode": {
    "name": "ipython",
    "version": 3
   },
   "file_extension": ".py",
   "mimetype": "text/x-python",
   "name": "python",
   "nbconvert_exporter": "python",
   "pygments_lexer": "ipython3",
   "version": "3.7.5"
  }
 },
 "nbformat": 4,
 "nbformat_minor": 4
}
